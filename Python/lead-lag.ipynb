{
 "cells": [
  {
   "cell_type": "code",
   "execution_count": 1,
   "metadata": {},
   "outputs": [],
   "source": [
    "from datetime import datetime, timedelta\n",
    "\n",
    "import numpy as np\n",
    "import pandas as pd\n",
    "\n",
    "from lead_lag import LeadLag"
   ]
  },
  {
   "cell_type": "code",
   "execution_count": null,
   "metadata": {},
   "outputs": [],
   "source": [
    "y = pd.read_csv('../data/yrbf100.csv', parse_dates=True, keep_date_col=True)\n",
    "# Assuming your DataFrame is named 'df'\n",
    "y['Unnamed: 0'] = pd.to_timedelta(y['Unnamed: 0'], unit='s')"
   ]
  },
  {
   "cell_type": "code",
   "execution_count": null,
   "metadata": {},
   "outputs": [],
   "source": [
    "lead_lag_list = []  # Create an empty list to store lead_lag values\n",
    "for i in range(1, 101):\n",
    "    column_name = f\"V{i}\"\n",
    "    t = pd.Series(data=y[column_name].values, index=y['Unnamed: 0'])\n",
    "    ll = LeadLag(ts1=t[:100], ts2=t[100:], max_lag=4)\n",
    "    ll.run_inference()\n",
    "    print(f\"iteration {i}\")\n",
    "    lead_lag_list.append(ll.lead_lag) \n",
    "print(lead_lag_list)"
   ]
  },
  {
   "cell_type": "code",
   "execution_count": 40,
   "metadata": {},
   "outputs": [],
   "source": [
    "df = pd.DataFrame(lead_lag_list, columns=['lead-lag'])\n",
    "\n",
    "# Specify the output file path\n",
    "output_file = '../data/lead-lag-rbf.csv'\n",
    "\n",
    "# Save the DataFrame as a CSV file\n",
    "df.to_csv(output_file, index=False)\n"
   ]
  }
 ],
 "metadata": {
  "kernelspec": {
   "display_name": "Python 3.9.16 ('lead-lag')",
   "language": "python",
   "name": "python3"
  },
  "language_info": {
   "codemirror_mode": {
    "name": "ipython",
    "version": 3
   },
   "file_extension": ".py",
   "mimetype": "text/x-python",
   "name": "python",
   "nbconvert_exporter": "python",
   "pygments_lexer": "ipython3",
   "version": "3.9.16"
  },
  "orig_nbformat": 4,
  "vscode": {
   "interpreter": {
    "hash": "2e3d701e1a9fa291398be8e8fc7c4c85c9adce0a87e5957f1f55b69539d39798"
   }
  }
 },
 "nbformat": 4,
 "nbformat_minor": 2
}

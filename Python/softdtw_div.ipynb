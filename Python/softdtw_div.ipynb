{
 "cells": [
  {
   "cell_type": "code",
   "execution_count": 4,
   "metadata": {},
   "outputs": [],
   "source": [
    "import numpy as np\n",
    "from sdtw_div.numba_ops import sdtw_div, sdtw_div_value_and_grad\n",
    "import pandas as pd"
   ]
  },
  {
   "cell_type": "code",
   "execution_count": null,
   "metadata": {},
   "outputs": [],
   "source": [
    "# Simulation 3\n",
    "yother = pd.read_csv(\"/proj/milovelab/mu/lima/data/cluster.csv\")\n",
    "y1 = pd.read_csv(\"/proj/milovelab/mu/lima/data/target.csv\")"
   ]
  },
  {
   "cell_type": "code",
   "execution_count": 21,
   "metadata": {},
   "outputs": [],
   "source": [
    "distance = []\n",
    "for i in range(9):\n",
    "    target = y1.iloc[:,0].values.reshape(-1, 1)\n",
    "    y2 = yother.iloc[:,i].values.reshape(-1, 1)\n",
    "    value = sdtw_div(target, y2, gamma=1.0)\n",
    "    distance.append(value)"
   ]
  },
  {
   "cell_type": "code",
   "execution_count": 24,
   "metadata": {},
   "outputs": [],
   "source": [
    "df = pd.DataFrame({\n",
    "    'softdtwdiv' : distance\n",
    "})\n",
    "df.to_csv('/proj/milovelab/mu/lima/data/softdtwdiv.csv', index = False)"
   ]
  },
  {
   "cell_type": "code",
   "execution_count": 25,
   "metadata": {},
   "outputs": [],
   "source": [
    "# Chromtain Dynamic Interaction\n",
    "yshift = pd.read_csv(\"/proj/milovelab/mu/lima/data/Yshift.csv\")"
   ]
  },
  {
   "cell_type": "code",
   "execution_count": 29,
   "metadata": {},
   "outputs": [],
   "source": [
    "distance = []\n",
    "for i in range(yshift.shape[1]):\n",
    "    target = yshift.iloc[:7,i].values.reshape(-1, 1)\n",
    "    y2 = yshift.iloc[7:,i].values.reshape(-1, 1)\n",
    "    value = sdtw_div(target, y2, gamma=1.0)\n",
    "    distance.append(value)"
   ]
  },
  {
   "cell_type": "code",
   "execution_count": 30,
   "metadata": {},
   "outputs": [],
   "source": [
    "df = pd.DataFrame({\n",
    "    'softdtwdiv' : distance\n",
    "})\n",
    "df.to_csv('/proj/milovelab/mu/lima/data/epcount_softdtwdiv.csv', index = False)"
   ]
  }
 ],
 "metadata": {
  "kernelspec": {
   "display_name": "Python 3.9.10 ('GP')",
   "language": "python",
   "name": "python3"
  },
  "language_info": {
   "codemirror_mode": {
    "name": "ipython",
    "version": 3
   },
   "file_extension": ".py",
   "mimetype": "text/x-python",
   "name": "python",
   "nbconvert_exporter": "python",
   "pygments_lexer": "ipython3",
   "version": "3.9.10"
  },
  "orig_nbformat": 4,
  "vscode": {
   "interpreter": {
    "hash": "a5fc9b0484f11212bf9823e7ef6b8a9a49eb1f3d4f95bb8fd49950ecc2c37109"
   }
  }
 },
 "nbformat": 4,
 "nbformat_minor": 2
}
